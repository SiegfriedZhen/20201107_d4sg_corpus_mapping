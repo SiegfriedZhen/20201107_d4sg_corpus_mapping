{
 "cells": [
  {
   "cell_type": "markdown",
   "metadata": {
    "id": "2y8oHAZ2-bAY"
   },
   "source": [
    "# step1. 安裝CKIP"
   ]
  },
  {
   "cell_type": "code",
   "execution_count": 1,
   "metadata": {
    "id": "m8kCHMPE-I9r"
   },
   "outputs": [],
   "source": [
    "#!pip install -U ckiptagger[tfgpu,gdown]"
   ]
  },
  {
   "cell_type": "code",
   "execution_count": 1,
   "metadata": {
    "id": "T_OUiM-u_egW"
   },
   "outputs": [],
   "source": [
    "# import os\n",
    "# from pathlib import Path\n",
    "# from collections import Counter\n",
    "# import re\n",
    "# import pickle\n",
    "# from string import punctuation\n",
    "# import datetime\n",
    "\n",
    "# from gensim.models.word2vec import Word2Vec\n",
    "# import numpy as np\n",
    "# import pandas as pd\n",
    "# from ckiptagger import data_utils, construct_dictionary, WS\n",
    "# from sklearn.metrics.pairwise import cosine_similarity\n",
    "# from sklearn.feature_extraction.text import TfidfTransformer, TfidfVectorizer, CountVectorizer\n",
    "# #from google.colab import drive"
   ]
  },
  {
   "cell_type": "code",
   "execution_count": 2,
   "metadata": {},
   "outputs": [],
   "source": [
    "from pathlib import Path\n",
    "\n",
    "import pandas as pd\n",
    "\n",
    "from model_building import word2vec_model\n",
    "from split_rule_V1 import split_rule"
   ]
  },
  {
   "cell_type": "code",
   "execution_count": 3,
   "metadata": {},
   "outputs": [],
   "source": [
    "root_path = Path('/Users/zoe/Documents/GitHub/20201107_d4sg_corpus_mapping')\n",
    "ckip_path = root_path / 'data/ckip_model/data'\n",
    "parsed_column = '缺失內容'\n",
    "# dictionary\n",
    "dict_path = root_path / 'dictionary'\n",
    "legal_name_file = dict_path / 'name_of_legal.txt'\n",
    "word_file = dict_path / 'oth_words.txt'\n",
    "punc_file = dict_path / 'punctuation.pkl'\n",
    "split_rule_kw_file = dict_path / 'split_rule_words.txt'\n",
    "# output file name\n",
    "output_path = root_path / 'output/exclude_rule_ver'\n",
    "# without rule exclusion\n",
    "step1_file = output_path / 'data_etl_step1_exclude_law.xlsx'  # output as excel to avoid comma parse error\n",
    "step2_file = output_path / 'data_etl_step2.csv'\n",
    "step3_file = output_path / 'data_etl_step3_noPuncDict.csv'\n",
    "w2v_model_file = output_path / 'w2v_var.pkl'"
   ]
  },
  {
   "cell_type": "code",
   "execution_count": 5,
   "metadata": {},
   "outputs": [
    {
     "ename": "AttributeError",
     "evalue": "'float' object has no attribute 'replace'",
     "output_type": "error",
     "traceback": [
      "\u001b[0;31m---------------------------------------------------------------------------\u001b[0m",
      "\u001b[0;31mAttributeError\u001b[0m                            Traceback (most recent call last)",
      "\u001b[0;32m<ipython-input-5-ff4098f7e075>\u001b[0m in \u001b[0;36m<module>\u001b[0;34m\u001b[0m\n\u001b[1;32m      4\u001b[0m \u001b[0mdf\u001b[0m \u001b[0;34m=\u001b[0m \u001b[0mdf\u001b[0m\u001b[0;34m[\u001b[0m\u001b[0mdf\u001b[0m\u001b[0;34m[\u001b[0m\u001b[0mparsed_column\u001b[0m\u001b[0;34m]\u001b[0m\u001b[0;34m.\u001b[0m\u001b[0mnotna\u001b[0m\u001b[0;34m(\u001b[0m\u001b[0;34m)\u001b[0m\u001b[0;34m]\u001b[0m\u001b[0;34m\u001b[0m\u001b[0;34m\u001b[0m\u001b[0m\n\u001b[1;32m      5\u001b[0m \u001b[0;31m# Replace '@' with ' ' in original dataframe\u001b[0m\u001b[0;34m\u001b[0m\u001b[0;34m\u001b[0m\u001b[0;34m\u001b[0m\u001b[0m\n\u001b[0;32m----> 6\u001b[0;31m \u001b[0mdf\u001b[0m\u001b[0;34m.\u001b[0m\u001b[0mtoken\u001b[0m \u001b[0;34m=\u001b[0m \u001b[0mdf\u001b[0m\u001b[0;34m.\u001b[0m\u001b[0mtoken\u001b[0m\u001b[0;34m.\u001b[0m\u001b[0mapply\u001b[0m\u001b[0;34m(\u001b[0m\u001b[0;32mlambda\u001b[0m \u001b[0mtext\u001b[0m\u001b[0;34m:\u001b[0m \u001b[0mtext\u001b[0m\u001b[0;34m.\u001b[0m\u001b[0mreplace\u001b[0m\u001b[0;34m(\u001b[0m\u001b[0;34m'@'\u001b[0m\u001b[0;34m,\u001b[0m \u001b[0;34m' '\u001b[0m\u001b[0;34m)\u001b[0m\u001b[0;34m)\u001b[0m\u001b[0;34m\u001b[0m\u001b[0;34m\u001b[0m\u001b[0m\n\u001b[0m",
      "\u001b[0;32m~/anaconda3/lib/python3.7/site-packages/pandas/core/series.py\u001b[0m in \u001b[0;36mapply\u001b[0;34m(self, func, convert_dtype, args, **kwds)\u001b[0m\n\u001b[1;32m   4043\u001b[0m             \u001b[0;32melse\u001b[0m\u001b[0;34m:\u001b[0m\u001b[0;34m\u001b[0m\u001b[0;34m\u001b[0m\u001b[0m\n\u001b[1;32m   4044\u001b[0m                 \u001b[0mvalues\u001b[0m \u001b[0;34m=\u001b[0m \u001b[0mself\u001b[0m\u001b[0;34m.\u001b[0m\u001b[0mastype\u001b[0m\u001b[0;34m(\u001b[0m\u001b[0mobject\u001b[0m\u001b[0;34m)\u001b[0m\u001b[0;34m.\u001b[0m\u001b[0mvalues\u001b[0m\u001b[0;34m\u001b[0m\u001b[0;34m\u001b[0m\u001b[0m\n\u001b[0;32m-> 4045\u001b[0;31m                 \u001b[0mmapped\u001b[0m \u001b[0;34m=\u001b[0m \u001b[0mlib\u001b[0m\u001b[0;34m.\u001b[0m\u001b[0mmap_infer\u001b[0m\u001b[0;34m(\u001b[0m\u001b[0mvalues\u001b[0m\u001b[0;34m,\u001b[0m \u001b[0mf\u001b[0m\u001b[0;34m,\u001b[0m \u001b[0mconvert\u001b[0m\u001b[0;34m=\u001b[0m\u001b[0mconvert_dtype\u001b[0m\u001b[0;34m)\u001b[0m\u001b[0;34m\u001b[0m\u001b[0;34m\u001b[0m\u001b[0m\n\u001b[0m\u001b[1;32m   4046\u001b[0m \u001b[0;34m\u001b[0m\u001b[0m\n\u001b[1;32m   4047\u001b[0m         \u001b[0;32mif\u001b[0m \u001b[0mlen\u001b[0m\u001b[0;34m(\u001b[0m\u001b[0mmapped\u001b[0m\u001b[0;34m)\u001b[0m \u001b[0;32mand\u001b[0m \u001b[0misinstance\u001b[0m\u001b[0;34m(\u001b[0m\u001b[0mmapped\u001b[0m\u001b[0;34m[\u001b[0m\u001b[0;36m0\u001b[0m\u001b[0;34m]\u001b[0m\u001b[0;34m,\u001b[0m \u001b[0mSeries\u001b[0m\u001b[0;34m)\u001b[0m\u001b[0;34m:\u001b[0m\u001b[0;34m\u001b[0m\u001b[0;34m\u001b[0m\u001b[0m\n",
      "\u001b[0;32mpandas/_libs/lib.pyx\u001b[0m in \u001b[0;36mpandas._libs.lib.map_infer\u001b[0;34m()\u001b[0m\n",
      "\u001b[0;32m<ipython-input-5-ff4098f7e075>\u001b[0m in \u001b[0;36m<lambda>\u001b[0;34m(text)\u001b[0m\n\u001b[1;32m      4\u001b[0m \u001b[0mdf\u001b[0m \u001b[0;34m=\u001b[0m \u001b[0mdf\u001b[0m\u001b[0;34m[\u001b[0m\u001b[0mdf\u001b[0m\u001b[0;34m[\u001b[0m\u001b[0mparsed_column\u001b[0m\u001b[0;34m]\u001b[0m\u001b[0;34m.\u001b[0m\u001b[0mnotna\u001b[0m\u001b[0;34m(\u001b[0m\u001b[0;34m)\u001b[0m\u001b[0;34m]\u001b[0m\u001b[0;34m\u001b[0m\u001b[0;34m\u001b[0m\u001b[0m\n\u001b[1;32m      5\u001b[0m \u001b[0;31m# Replace '@' with ' ' in original dataframe\u001b[0m\u001b[0;34m\u001b[0m\u001b[0;34m\u001b[0m\u001b[0;34m\u001b[0m\u001b[0m\n\u001b[0;32m----> 6\u001b[0;31m \u001b[0mdf\u001b[0m\u001b[0;34m.\u001b[0m\u001b[0mtoken\u001b[0m \u001b[0;34m=\u001b[0m \u001b[0mdf\u001b[0m\u001b[0;34m.\u001b[0m\u001b[0mtoken\u001b[0m\u001b[0;34m.\u001b[0m\u001b[0mapply\u001b[0m\u001b[0;34m(\u001b[0m\u001b[0;32mlambda\u001b[0m \u001b[0mtext\u001b[0m\u001b[0;34m:\u001b[0m \u001b[0mtext\u001b[0m\u001b[0;34m.\u001b[0m\u001b[0mreplace\u001b[0m\u001b[0;34m(\u001b[0m\u001b[0;34m'@'\u001b[0m\u001b[0;34m,\u001b[0m \u001b[0;34m' '\u001b[0m\u001b[0;34m)\u001b[0m\u001b[0;34m)\u001b[0m\u001b[0;34m\u001b[0m\u001b[0;34m\u001b[0m\u001b[0m\n\u001b[0m",
      "\u001b[0;31mAttributeError\u001b[0m: 'float' object has no attribute 'replace'"
     ]
    }
   ],
   "source": [
    "file_path = step3_file\n",
    "\n",
    "df = pd.read_csv(file_path)\n",
    "df = df[df[parsed_column].notna()]\n",
    "# Replace '@' with ' ' in original dataframe\n",
    "df.token = df.token.apply(lambda text: text.replace('@', ' '))"
   ]
  },
  {
   "cell_type": "code",
   "execution_count": 17,
   "metadata": {},
   "outputs": [
    {
     "name": "stdout",
     "output_type": "stream",
     "text": [
      "Pandas(Index=15001, 流水號=202005150, 階段=2, 法規編號=36, 法規名稱='採購評選委員會審議規則', 條='11', 條之=nan, 項='1', 款=nan, 缺失內容='【', 法令依據=nan, 事實=nan, 改進建議=nan, 法令依據_cloud=\"['項次26】依採購評選委員會審議規則第11條第1項規定：「本委員會會議紀錄，應記載下列事項：一、採購案名稱。二、會議次別。三、會議時間。四、會議地點。五、主席姓名。六、出席及請假委員姓名。七、列席人員姓名。八、記錄人員姓名。九、報告事項之案由及決定。一○、討論事項之案由及決議。一一、臨時動議之案由及決議。一二、其他應行記載之事項｣，惟查本採購案108年12月11日上午9時30分之評選委員會議紀錄未記載次別，爾後請注意改正。']\", _14='【', 法令_cloud=\"['項次', '採購評選委員會審議規則']\", token=nan)\n"
     ]
    }
   ],
   "source": [
    "for x in df.itertuples():\n",
    "    try:\n",
    "        x.token.replace('@', '')\n",
    "    except Exception as e:\n",
    "        print(x)\n",
    "        break"
   ]
  },
  {
   "cell_type": "code",
   "execution_count": 18,
   "metadata": {},
   "outputs": [
    {
     "data": {
      "text/plain": [
       "Index(['流水號', '階段', '法規編號', '法規名稱', '條', '條之', '項', '款', '缺失內容', '法令依據', '事實',\n",
       "       '改進建議', '法令依據_cloud', '事實&改進建議', '法令_cloud', 'token'],\n",
       "      dtype='object')"
      ]
     },
     "execution_count": 18,
     "metadata": {},
     "output_type": "execute_result"
    }
   ],
   "source": [
    "df.columns"
   ]
  },
  {
   "cell_type": "code",
   "execution_count": null,
   "metadata": {},
   "outputs": [],
   "source": []
  },
  {
   "cell_type": "markdown",
   "metadata": {},
   "source": [
    "# filter duplicated words"
   ]
  },
  {
   "cell_type": "code",
   "execution_count": 8,
   "metadata": {},
   "outputs": [
    {
     "ename": "FileNotFoundError",
     "evalue": "[Errno 2] File b'./dictionary/rule.csv' does not exist: b'./dictionary/rule.csv'",
     "output_type": "error",
     "traceback": [
      "\u001b[0;31m---------------------------------------------------------------------------\u001b[0m",
      "\u001b[0;31mFileNotFoundError\u001b[0m                         Traceback (most recent call last)",
      "\u001b[0;32m<ipython-input-8-fb57057414b4>\u001b[0m in \u001b[0;36m<module>\u001b[0;34m\u001b[0m\n\u001b[0;32m----> 1\u001b[0;31m \u001b[0mtest\u001b[0m \u001b[0;34m=\u001b[0m \u001b[0msplit_rule\u001b[0m\u001b[0;34m(\u001b[0m\u001b[0mraw_df\u001b[0m\u001b[0;34m)\u001b[0m\u001b[0;34m\u001b[0m\u001b[0;34m\u001b[0m\u001b[0m\n\u001b[0m",
      "\u001b[0;32m~/Documents/GitHub/20201107_d4sg_corpus_mapping/split_rule_V1.py\u001b[0m in \u001b[0;36msplit_rule\u001b[0;34m(data)\u001b[0m\n\u001b[1;32m      8\u001b[0m \u001b[0;34m\u001b[0m\u001b[0m\n\u001b[1;32m      9\u001b[0m     \u001b[0;31m# input some dictionaries\u001b[0m\u001b[0;34m\u001b[0m\u001b[0;34m\u001b[0m\u001b[0;34m\u001b[0m\u001b[0m\n\u001b[0;32m---> 10\u001b[0;31m     \u001b[0mrule_table\u001b[0m \u001b[0;34m=\u001b[0m \u001b[0mpd\u001b[0m\u001b[0;34m.\u001b[0m\u001b[0mread_csv\u001b[0m\u001b[0;34m(\u001b[0m\u001b[0;34m'./dictionary/rule.csv'\u001b[0m\u001b[0;34m,\u001b[0m\u001b[0mencoding\u001b[0m \u001b[0;34m=\u001b[0m \u001b[0;34m'big5'\u001b[0m\u001b[0;34m)\u001b[0m\u001b[0;34m\u001b[0m\u001b[0;34m\u001b[0m\u001b[0m\n\u001b[0m\u001b[1;32m     11\u001b[0m \u001b[0;34m\u001b[0m\u001b[0m\n\u001b[1;32m     12\u001b[0m     \u001b[0mrule_names\u001b[0m \u001b[0;34m=\u001b[0m \u001b[0;34m[\u001b[0m\u001b[0;34m]\u001b[0m\u001b[0;34m\u001b[0m\u001b[0;34m\u001b[0m\u001b[0m\n",
      "\u001b[0;32m~/anaconda3/lib/python3.7/site-packages/pandas/io/parsers.py\u001b[0m in \u001b[0;36mparser_f\u001b[0;34m(filepath_or_buffer, sep, delimiter, header, names, index_col, usecols, squeeze, prefix, mangle_dupe_cols, dtype, engine, converters, true_values, false_values, skipinitialspace, skiprows, skipfooter, nrows, na_values, keep_default_na, na_filter, verbose, skip_blank_lines, parse_dates, infer_datetime_format, keep_date_col, date_parser, dayfirst, cache_dates, iterator, chunksize, compression, thousands, decimal, lineterminator, quotechar, quoting, doublequote, escapechar, comment, encoding, dialect, error_bad_lines, warn_bad_lines, delim_whitespace, low_memory, memory_map, float_precision)\u001b[0m\n\u001b[1;32m    683\u001b[0m         )\n\u001b[1;32m    684\u001b[0m \u001b[0;34m\u001b[0m\u001b[0m\n\u001b[0;32m--> 685\u001b[0;31m         \u001b[0;32mreturn\u001b[0m \u001b[0m_read\u001b[0m\u001b[0;34m(\u001b[0m\u001b[0mfilepath_or_buffer\u001b[0m\u001b[0;34m,\u001b[0m \u001b[0mkwds\u001b[0m\u001b[0;34m)\u001b[0m\u001b[0;34m\u001b[0m\u001b[0;34m\u001b[0m\u001b[0m\n\u001b[0m\u001b[1;32m    686\u001b[0m \u001b[0;34m\u001b[0m\u001b[0m\n\u001b[1;32m    687\u001b[0m     \u001b[0mparser_f\u001b[0m\u001b[0;34m.\u001b[0m\u001b[0m__name__\u001b[0m \u001b[0;34m=\u001b[0m \u001b[0mname\u001b[0m\u001b[0;34m\u001b[0m\u001b[0;34m\u001b[0m\u001b[0m\n",
      "\u001b[0;32m~/anaconda3/lib/python3.7/site-packages/pandas/io/parsers.py\u001b[0m in \u001b[0;36m_read\u001b[0;34m(filepath_or_buffer, kwds)\u001b[0m\n\u001b[1;32m    455\u001b[0m \u001b[0;34m\u001b[0m\u001b[0m\n\u001b[1;32m    456\u001b[0m     \u001b[0;31m# Create the parser.\u001b[0m\u001b[0;34m\u001b[0m\u001b[0;34m\u001b[0m\u001b[0;34m\u001b[0m\u001b[0m\n\u001b[0;32m--> 457\u001b[0;31m     \u001b[0mparser\u001b[0m \u001b[0;34m=\u001b[0m \u001b[0mTextFileReader\u001b[0m\u001b[0;34m(\u001b[0m\u001b[0mfp_or_buf\u001b[0m\u001b[0;34m,\u001b[0m \u001b[0;34m**\u001b[0m\u001b[0mkwds\u001b[0m\u001b[0;34m)\u001b[0m\u001b[0;34m\u001b[0m\u001b[0;34m\u001b[0m\u001b[0m\n\u001b[0m\u001b[1;32m    458\u001b[0m \u001b[0;34m\u001b[0m\u001b[0m\n\u001b[1;32m    459\u001b[0m     \u001b[0;32mif\u001b[0m \u001b[0mchunksize\u001b[0m \u001b[0;32mor\u001b[0m \u001b[0miterator\u001b[0m\u001b[0;34m:\u001b[0m\u001b[0;34m\u001b[0m\u001b[0;34m\u001b[0m\u001b[0m\n",
      "\u001b[0;32m~/anaconda3/lib/python3.7/site-packages/pandas/io/parsers.py\u001b[0m in \u001b[0;36m__init__\u001b[0;34m(self, f, engine, **kwds)\u001b[0m\n\u001b[1;32m    893\u001b[0m             \u001b[0mself\u001b[0m\u001b[0;34m.\u001b[0m\u001b[0moptions\u001b[0m\u001b[0;34m[\u001b[0m\u001b[0;34m\"has_index_names\"\u001b[0m\u001b[0;34m]\u001b[0m \u001b[0;34m=\u001b[0m \u001b[0mkwds\u001b[0m\u001b[0;34m[\u001b[0m\u001b[0;34m\"has_index_names\"\u001b[0m\u001b[0;34m]\u001b[0m\u001b[0;34m\u001b[0m\u001b[0;34m\u001b[0m\u001b[0m\n\u001b[1;32m    894\u001b[0m \u001b[0;34m\u001b[0m\u001b[0m\n\u001b[0;32m--> 895\u001b[0;31m         \u001b[0mself\u001b[0m\u001b[0;34m.\u001b[0m\u001b[0m_make_engine\u001b[0m\u001b[0;34m(\u001b[0m\u001b[0mself\u001b[0m\u001b[0;34m.\u001b[0m\u001b[0mengine\u001b[0m\u001b[0;34m)\u001b[0m\u001b[0;34m\u001b[0m\u001b[0;34m\u001b[0m\u001b[0m\n\u001b[0m\u001b[1;32m    896\u001b[0m \u001b[0;34m\u001b[0m\u001b[0m\n\u001b[1;32m    897\u001b[0m     \u001b[0;32mdef\u001b[0m \u001b[0mclose\u001b[0m\u001b[0;34m(\u001b[0m\u001b[0mself\u001b[0m\u001b[0;34m)\u001b[0m\u001b[0;34m:\u001b[0m\u001b[0;34m\u001b[0m\u001b[0;34m\u001b[0m\u001b[0m\n",
      "\u001b[0;32m~/anaconda3/lib/python3.7/site-packages/pandas/io/parsers.py\u001b[0m in \u001b[0;36m_make_engine\u001b[0;34m(self, engine)\u001b[0m\n\u001b[1;32m   1133\u001b[0m     \u001b[0;32mdef\u001b[0m \u001b[0m_make_engine\u001b[0m\u001b[0;34m(\u001b[0m\u001b[0mself\u001b[0m\u001b[0;34m,\u001b[0m \u001b[0mengine\u001b[0m\u001b[0;34m=\u001b[0m\u001b[0;34m\"c\"\u001b[0m\u001b[0;34m)\u001b[0m\u001b[0;34m:\u001b[0m\u001b[0;34m\u001b[0m\u001b[0;34m\u001b[0m\u001b[0m\n\u001b[1;32m   1134\u001b[0m         \u001b[0;32mif\u001b[0m \u001b[0mengine\u001b[0m \u001b[0;34m==\u001b[0m \u001b[0;34m\"c\"\u001b[0m\u001b[0;34m:\u001b[0m\u001b[0;34m\u001b[0m\u001b[0;34m\u001b[0m\u001b[0m\n\u001b[0;32m-> 1135\u001b[0;31m             \u001b[0mself\u001b[0m\u001b[0;34m.\u001b[0m\u001b[0m_engine\u001b[0m \u001b[0;34m=\u001b[0m \u001b[0mCParserWrapper\u001b[0m\u001b[0;34m(\u001b[0m\u001b[0mself\u001b[0m\u001b[0;34m.\u001b[0m\u001b[0mf\u001b[0m\u001b[0;34m,\u001b[0m \u001b[0;34m**\u001b[0m\u001b[0mself\u001b[0m\u001b[0;34m.\u001b[0m\u001b[0moptions\u001b[0m\u001b[0;34m)\u001b[0m\u001b[0;34m\u001b[0m\u001b[0;34m\u001b[0m\u001b[0m\n\u001b[0m\u001b[1;32m   1136\u001b[0m         \u001b[0;32melse\u001b[0m\u001b[0;34m:\u001b[0m\u001b[0;34m\u001b[0m\u001b[0;34m\u001b[0m\u001b[0m\n\u001b[1;32m   1137\u001b[0m             \u001b[0;32mif\u001b[0m \u001b[0mengine\u001b[0m \u001b[0;34m==\u001b[0m \u001b[0;34m\"python\"\u001b[0m\u001b[0;34m:\u001b[0m\u001b[0;34m\u001b[0m\u001b[0;34m\u001b[0m\u001b[0m\n",
      "\u001b[0;32m~/anaconda3/lib/python3.7/site-packages/pandas/io/parsers.py\u001b[0m in \u001b[0;36m__init__\u001b[0;34m(self, src, **kwds)\u001b[0m\n\u001b[1;32m   1915\u001b[0m         \u001b[0mkwds\u001b[0m\u001b[0;34m[\u001b[0m\u001b[0;34m\"usecols\"\u001b[0m\u001b[0;34m]\u001b[0m \u001b[0;34m=\u001b[0m \u001b[0mself\u001b[0m\u001b[0;34m.\u001b[0m\u001b[0musecols\u001b[0m\u001b[0;34m\u001b[0m\u001b[0;34m\u001b[0m\u001b[0m\n\u001b[1;32m   1916\u001b[0m \u001b[0;34m\u001b[0m\u001b[0m\n\u001b[0;32m-> 1917\u001b[0;31m         \u001b[0mself\u001b[0m\u001b[0;34m.\u001b[0m\u001b[0m_reader\u001b[0m \u001b[0;34m=\u001b[0m \u001b[0mparsers\u001b[0m\u001b[0;34m.\u001b[0m\u001b[0mTextReader\u001b[0m\u001b[0;34m(\u001b[0m\u001b[0msrc\u001b[0m\u001b[0;34m,\u001b[0m \u001b[0;34m**\u001b[0m\u001b[0mkwds\u001b[0m\u001b[0;34m)\u001b[0m\u001b[0;34m\u001b[0m\u001b[0;34m\u001b[0m\u001b[0m\n\u001b[0m\u001b[1;32m   1918\u001b[0m         \u001b[0mself\u001b[0m\u001b[0;34m.\u001b[0m\u001b[0munnamed_cols\u001b[0m \u001b[0;34m=\u001b[0m \u001b[0mself\u001b[0m\u001b[0;34m.\u001b[0m\u001b[0m_reader\u001b[0m\u001b[0;34m.\u001b[0m\u001b[0munnamed_cols\u001b[0m\u001b[0;34m\u001b[0m\u001b[0;34m\u001b[0m\u001b[0m\n\u001b[1;32m   1919\u001b[0m \u001b[0;34m\u001b[0m\u001b[0m\n",
      "\u001b[0;32mpandas/_libs/parsers.pyx\u001b[0m in \u001b[0;36mpandas._libs.parsers.TextReader.__cinit__\u001b[0;34m()\u001b[0m\n",
      "\u001b[0;32mpandas/_libs/parsers.pyx\u001b[0m in \u001b[0;36mpandas._libs.parsers.TextReader._setup_parser_source\u001b[0;34m()\u001b[0m\n",
      "\u001b[0;31mFileNotFoundError\u001b[0m: [Errno 2] File b'./dictionary/rule.csv' does not exist: b'./dictionary/rule.csv'"
     ]
    }
   ],
   "source": [
    "test = split_rule(raw_df)"
   ]
  },
  {
   "cell_type": "code",
   "execution_count": 31,
   "metadata": {},
   "outputs": [],
   "source": [
    "with open('/Users/zoe/Documents/GitHub/20201107_d4sg_corpus_mapping/dictionary/raw_words.txt', 'r') as f:\n",
    "    s = f.readlines()"
   ]
  },
  {
   "cell_type": "code",
   "execution_count": 33,
   "metadata": {},
   "outputs": [],
   "source": [
    "from collections import Counter\n",
    "\n",
    "with open(root_path / 'dictionary/oth_word.txt', 'w', encoding='big5') as f:\n",
    "     f.writelines([ x[0] for x in Counter(s).most_common()])"
   ]
  },
  {
   "cell_type": "markdown",
   "metadata": {
    "id": "yvlL0qQ7Cywv"
   },
   "source": [
    "# step2. 設定 GPU 加速斷詞速度。執行階段 > 變更執行階段類型"
   ]
  },
  {
   "cell_type": "code",
   "execution_count": 2,
   "metadata": {},
   "outputs": [],
   "source": [
    "# word cut package data path and exec path\n",
    "root_path = Path('/Users/zoe/Documents/GitHub/20201107_d4sg_corpus_mapping')\n",
    "ckip_path = root_path / 'data/ckip_model/data'\n",
    "parsed_column = '缺失內容'\n",
    "# dictionary\n",
    "dict_path = root_path / 'dictionary'\n",
    "legal_name_file = dict_path / 'name_of_legal.txt'\n",
    "word_file = dict_path / 'oth_words.txt'\n",
    "punc_file = dict_path / 'punctuation.pkl'\n",
    "split_rule_kw_file = dict_path / 'split_rule_words.txt'\n",
    "# output file name\n",
    "output_path = root_path / 'output'\n",
    "step1_file = output_path / 'data_etl_step1.csv'\n",
    "step2_file = output_path / 'data_etl_step2_noPunc.csv'\n",
    "step3_file = output_path / 'data_etl_step3_noPuncDict.csv'\n",
    "w2v_model_file = output_path / 'w2v_var.pkl'"
   ]
  },
  {
   "cell_type": "code",
   "execution_count": 3,
   "metadata": {},
   "outputs": [],
   "source": [
    "raw_df = pd.read_excel(root_path / 'data/200801至202008缺失類型(法規分段例).xlsx', sheet_name='法規')"
   ]
  },
  {
   "cell_type": "code",
   "execution_count": 4,
   "metadata": {},
   "outputs": [
    {
     "data": {
      "text/html": [
       "<div>\n",
       "<style scoped>\n",
       "    .dataframe tbody tr th:only-of-type {\n",
       "        vertical-align: middle;\n",
       "    }\n",
       "\n",
       "    .dataframe tbody tr th {\n",
       "        vertical-align: top;\n",
       "    }\n",
       "\n",
       "    .dataframe thead th {\n",
       "        text-align: right;\n",
       "    }\n",
       "</style>\n",
       "<table border=\"1\" class=\"dataframe\">\n",
       "  <thead>\n",
       "    <tr style=\"text-align: right;\">\n",
       "      <th></th>\n",
       "      <th>流水號</th>\n",
       "      <th>階段</th>\n",
       "      <th>法規編號</th>\n",
       "      <th>法規名稱</th>\n",
       "      <th>條</th>\n",
       "      <th>條之</th>\n",
       "      <th>項</th>\n",
       "      <th>款</th>\n",
       "      <th>缺失內容</th>\n",
       "      <th>法令依據</th>\n",
       "      <th>事實</th>\n",
       "      <th>改進建議</th>\n",
       "      <th>法令依據_cloud</th>\n",
       "      <th>事實&amp;改進建議</th>\n",
       "      <th>法令_cloud</th>\n",
       "    </tr>\n",
       "  </thead>\n",
       "  <tbody>\n",
       "    <tr>\n",
       "      <th>0</th>\n",
       "      <td>200800001</td>\n",
       "      <td>1</td>\n",
       "      <td>250</td>\n",
       "      <td>其他非屬採購法相關法令之缺失</td>\n",
       "      <td>2</td>\n",
       "      <td>NaN</td>\n",
       "      <td>NaN</td>\n",
       "      <td>NaN</td>\n",
       "      <td>(1)\\t依政府採購法第30條第1項第1款勞務採購，得免收押標金、保證金之規定。本案押標金1...</td>\n",
       "      <td>NaN</td>\n",
       "      <td>NaN</td>\n",
       "      <td>NaN</td>\n",
       "      <td>[]</td>\n",
       "      <td>(1)\\t依政府採購法第30條第1項第1款勞務採購，得免收押標金、保證金之規定。本案押標金1...</td>\n",
       "      <td>[政府採購法]</td>\n",
       "    </tr>\n",
       "    <tr>\n",
       "      <th>1</th>\n",
       "      <td>200801001</td>\n",
       "      <td>8</td>\n",
       "      <td>250</td>\n",
       "      <td>其他非屬採購法相關法令之缺失</td>\n",
       "      <td>6</td>\n",
       "      <td>1</td>\n",
       "      <td>NaN</td>\n",
       "      <td>NaN</td>\n",
       "      <td>評選總表未載明受評廠商標價、本委員會全部委員姓名、職業等，未符「採購評選委員會審議規則」第6...</td>\n",
       "      <td>NaN</td>\n",
       "      <td>NaN</td>\n",
       "      <td>NaN</td>\n",
       "      <td>[]</td>\n",
       "      <td>評選總表未載明受評廠商標價、本委員會全部委員姓名、職業等，未符「採購評選委員會審議規則」第6...</td>\n",
       "      <td>[採購評選委員會審議規則]</td>\n",
       "    </tr>\n",
       "    <tr>\n",
       "      <th>2</th>\n",
       "      <td>200801001</td>\n",
       "      <td>8</td>\n",
       "      <td>250</td>\n",
       "      <td>其他非屬採購法相關法令之缺失</td>\n",
       "      <td>3</td>\n",
       "      <td>NaN</td>\n",
       "      <td>NaN</td>\n",
       "      <td>NaN</td>\n",
       "      <td>工作小組初審意見應依「採購評選委員會審議規則」第3條規定載明工作小組姓名、職稱及專長、受評廠...</td>\n",
       "      <td>NaN</td>\n",
       "      <td>NaN</td>\n",
       "      <td>NaN</td>\n",
       "      <td>[]</td>\n",
       "      <td>工作小組初審意見應依「採購評選委員會審議規則」第3條規定載明工作小組姓名、職稱及專長、受評廠...</td>\n",
       "      <td>[採購評選委員會審議規則]</td>\n",
       "    </tr>\n",
       "    <tr>\n",
       "      <th>3</th>\n",
       "      <td>200801001</td>\n",
       "      <td>8</td>\n",
       "      <td>1</td>\n",
       "      <td>政府採購法</td>\n",
       "      <td>NaN</td>\n",
       "      <td>NaN</td>\n",
       "      <td>NaN</td>\n",
       "      <td>NaN</td>\n",
       "      <td>「臺北市政府採購稽核小組稽核監督事項紀錄表」(三)採最有利標之核准情形(含未達公告金額)2、...</td>\n",
       "      <td>NaN</td>\n",
       "      <td>NaN</td>\n",
       "      <td>NaN</td>\n",
       "      <td>[]</td>\n",
       "      <td>「臺北市政府採購稽核小組稽核監督事項紀錄表」(三)採最有利標之核准情形(含未達公告金額)2、...</td>\n",
       "      <td>[]</td>\n",
       "    </tr>\n",
       "    <tr>\n",
       "      <th>4</th>\n",
       "      <td>200801001</td>\n",
       "      <td>8</td>\n",
       "      <td>1</td>\n",
       "      <td>政府採購法</td>\n",
       "      <td>NaN</td>\n",
       "      <td>NaN</td>\n",
       "      <td>NaN</td>\n",
       "      <td>NaN</td>\n",
       "      <td>「臺北市政府採購稽核小組稽核監督事項紀錄表」(三)採最有利標之核准情形(含未達公告金額)2、...</td>\n",
       "      <td>NaN</td>\n",
       "      <td>NaN</td>\n",
       "      <td>NaN</td>\n",
       "      <td>[]</td>\n",
       "      <td>「臺北市政府採購稽核小組稽核監督事項紀錄表」(三)採最有利標之核准情形(含未達公告金額)2、...</td>\n",
       "      <td>[]</td>\n",
       "    </tr>\n",
       "    <tr>\n",
       "      <th>...</th>\n",
       "      <td>...</td>\n",
       "      <td>...</td>\n",
       "      <td>...</td>\n",
       "      <td>...</td>\n",
       "      <td>...</td>\n",
       "      <td>...</td>\n",
       "      <td>...</td>\n",
       "      <td>...</td>\n",
       "      <td>...</td>\n",
       "      <td>...</td>\n",
       "      <td>...</td>\n",
       "      <td>...</td>\n",
       "      <td>...</td>\n",
       "      <td>...</td>\n",
       "      <td>...</td>\n",
       "    </tr>\n",
       "    <tr>\n",
       "      <th>23222</th>\n",
       "      <td>202007266</td>\n",
       "      <td>1</td>\n",
       "      <td>251</td>\n",
       "      <td>政府採購法施行細則</td>\n",
       "      <td>43</td>\n",
       "      <td>NaN</td>\n",
       "      <td>NaN</td>\n",
       "      <td>NaN</td>\n",
       "      <td>【第4項】本採購案招標，於109年2月6日辦理更正公告，截止投標日期為109年2月12日，惟...</td>\n",
       "      <td>NaN</td>\n",
       "      <td>NaN</td>\n",
       "      <td>NaN</td>\n",
       "      <td>[政府採購法施行細則第43條規定略以：「機關於招標文件規定廠商得請求釋疑之期限，至少應有等標...</td>\n",
       "      <td>【第4項】本採購案招標，於109年2月6日辦理更正公告，截止投標日期為109年2月12日，惟...</td>\n",
       "      <td>[施行細則, 政府採購法]</td>\n",
       "    </tr>\n",
       "    <tr>\n",
       "      <th>23223</th>\n",
       "      <td>202007273</td>\n",
       "      <td>1</td>\n",
       "      <td>114</td>\n",
       "      <td>行政疏失</td>\n",
       "      <td>NaN</td>\n",
       "      <td>NaN</td>\n",
       "      <td>NaN</td>\n",
       "      <td>NaN</td>\n",
       "      <td>項次15-查本案之評審須知係貴校自行擬定，核有規定內容過於簡略之情形(例如：廠商出席人數、廠...</td>\n",
       "      <td>NaN</td>\n",
       "      <td>NaN</td>\n",
       "      <td>NaN</td>\n",
       "      <td>[]</td>\n",
       "      <td>項次15-查本案之評審須知係貴校自行擬定，核有規定內容過於簡略之情形(例如：廠商出席人數、廠...</td>\n",
       "      <td>[項次]</td>\n",
       "    </tr>\n",
       "    <tr>\n",
       "      <th>23224</th>\n",
       "      <td>202008303</td>\n",
       "      <td>1</td>\n",
       "      <td>15</td>\n",
       "      <td>中央機關未達公告金額採購招標辦法</td>\n",
       "      <td>2</td>\n",
       "      <td>NaN</td>\n",
       "      <td>1</td>\n",
       "      <td>3</td>\n",
       "      <td>【項次8】依中央機關未達公告金額採購招標辦法第2條第1項第3款規定略以：「……公開於主管機關...</td>\n",
       "      <td>NaN</td>\n",
       "      <td>NaN</td>\n",
       "      <td>NaN</td>\n",
       "      <td>[項次8】依中央機關未達公告金額採購招標辦法第2條第1項第3款規定略以：「……公開於主管機關...</td>\n",
       "      <td>【及第3條規定略以：「……未能取得三家以上廠商之書面報價或企劃書者，得經機關首長或其授權人員...</td>\n",
       "      <td>[項次, 中央機關未達公告金額採購招標辦法, 同辦法]</td>\n",
       "    </tr>\n",
       "    <tr>\n",
       "      <th>23225</th>\n",
       "      <td>202008303</td>\n",
       "      <td>1</td>\n",
       "      <td>251</td>\n",
       "      <td>政府採購法施行細則</td>\n",
       "      <td>6</td>\n",
       "      <td>NaN</td>\n",
       "      <td>1</td>\n",
       "      <td>3</td>\n",
       "      <td>【項次1】依政府採購法施行細則第6條第1項第3款規定：「招標文件含有選購或後續擴充項目者，應...</td>\n",
       "      <td>NaN</td>\n",
       "      <td>NaN</td>\n",
       "      <td>NaN</td>\n",
       "      <td>[項次1】依政府採購法施行細則第6條第1項第3款規定：「招標文件含有選購或後續擴充項目者，應...</td>\n",
       "      <td>【，及，查本案招標公告「後續擴充」欄載明略以：「......本案之監造技術服務自109年2月...</td>\n",
       "      <td>[施行細則, 項次, 政府採購法]</td>\n",
       "    </tr>\n",
       "    <tr>\n",
       "      <th>23226</th>\n",
       "      <td>202008303</td>\n",
       "      <td>1</td>\n",
       "      <td>110</td>\n",
       "      <td>臺北市政府公共工程施工品質管理作業要點</td>\n",
       "      <td>13</td>\n",
       "      <td>NaN</td>\n",
       "      <td>1</td>\n",
       "      <td>1</td>\n",
       "      <td>【項次8】依臺北市政府公共工程施工品質管理作業要點第13點第1項第1款規定:「監造單位應……...</td>\n",
       "      <td>NaN</td>\n",
       "      <td>NaN</td>\n",
       "      <td>NaN</td>\n",
       "      <td>[項次8】依臺北市政府公共工程施工品質管理作業要點第13點第1項第1款規定:「監造單位應……...</td>\n",
       "      <td>【及臺北市政府所屬各機關公共工程施工安全衛生須知第3點第2款第1目: 「……監造廠商應於開工...</td>\n",
       "      <td>[臺北市政府所屬各機關公共工程施工安全衛生須知, 項次, 臺北市政府公共工程施工品質管理作業要點]</td>\n",
       "    </tr>\n",
       "  </tbody>\n",
       "</table>\n",
       "<p>23227 rows × 15 columns</p>\n",
       "</div>"
      ],
      "text/plain": [
       "             流水號  階段  法規編號                 法規名稱    條   條之    項    款  \\\n",
       "0      200800001   1   250       其他非屬採購法相關法令之缺失    2  NaN  NaN  NaN   \n",
       "1      200801001   8   250       其他非屬採購法相關法令之缺失    6    1  NaN  NaN   \n",
       "2      200801001   8   250       其他非屬採購法相關法令之缺失    3  NaN  NaN  NaN   \n",
       "3      200801001   8     1                政府採購法  NaN  NaN  NaN  NaN   \n",
       "4      200801001   8     1                政府採購法  NaN  NaN  NaN  NaN   \n",
       "...          ...  ..   ...                  ...  ...  ...  ...  ...   \n",
       "23222  202007266   1   251            政府採購法施行細則   43  NaN  NaN  NaN   \n",
       "23223  202007273   1   114                 行政疏失  NaN  NaN  NaN  NaN   \n",
       "23224  202008303   1    15     中央機關未達公告金額採購招標辦法    2  NaN    1    3   \n",
       "23225  202008303   1   251            政府採購法施行細則    6  NaN    1    3   \n",
       "23226  202008303   1   110  臺北市政府公共工程施工品質管理作業要點   13  NaN    1    1   \n",
       "\n",
       "                                                    缺失內容 法令依據   事實 改進建議  \\\n",
       "0      (1)\\t依政府採購法第30條第1項第1款勞務採購，得免收押標金、保證金之規定。本案押標金1...  NaN  NaN  NaN   \n",
       "1      評選總表未載明受評廠商標價、本委員會全部委員姓名、職業等，未符「採購評選委員會審議規則」第6...  NaN  NaN  NaN   \n",
       "2      工作小組初審意見應依「採購評選委員會審議規則」第3條規定載明工作小組姓名、職稱及專長、受評廠...  NaN  NaN  NaN   \n",
       "3      「臺北市政府採購稽核小組稽核監督事項紀錄表」(三)採最有利標之核准情形(含未達公告金額)2、...  NaN  NaN  NaN   \n",
       "4      「臺北市政府採購稽核小組稽核監督事項紀錄表」(三)採最有利標之核准情形(含未達公告金額)2、...  NaN  NaN  NaN   \n",
       "...                                                  ...  ...  ...  ...   \n",
       "23222  【第4項】本採購案招標，於109年2月6日辦理更正公告，截止投標日期為109年2月12日，惟...  NaN  NaN  NaN   \n",
       "23223  項次15-查本案之評審須知係貴校自行擬定，核有規定內容過於簡略之情形(例如：廠商出席人數、廠...  NaN  NaN  NaN   \n",
       "23224  【項次8】依中央機關未達公告金額採購招標辦法第2條第1項第3款規定略以：「……公開於主管機關...  NaN  NaN  NaN   \n",
       "23225  【項次1】依政府採購法施行細則第6條第1項第3款規定：「招標文件含有選購或後續擴充項目者，應...  NaN  NaN  NaN   \n",
       "23226  【項次8】依臺北市政府公共工程施工品質管理作業要點第13點第1項第1款規定:「監造單位應……...  NaN  NaN  NaN   \n",
       "\n",
       "                                              法令依據_cloud  \\\n",
       "0                                                     []   \n",
       "1                                                     []   \n",
       "2                                                     []   \n",
       "3                                                     []   \n",
       "4                                                     []   \n",
       "...                                                  ...   \n",
       "23222  [政府採購法施行細則第43條規定略以：「機關於招標文件規定廠商得請求釋疑之期限，至少應有等標...   \n",
       "23223                                                 []   \n",
       "23224  [項次8】依中央機關未達公告金額採購招標辦法第2條第1項第3款規定略以：「……公開於主管機關...   \n",
       "23225  [項次1】依政府採購法施行細則第6條第1項第3款規定：「招標文件含有選購或後續擴充項目者，應...   \n",
       "23226  [項次8】依臺北市政府公共工程施工品質管理作業要點第13點第1項第1款規定:「監造單位應……...   \n",
       "\n",
       "                                                 事實&改進建議  \\\n",
       "0      (1)\\t依政府採購法第30條第1項第1款勞務採購，得免收押標金、保證金之規定。本案押標金1...   \n",
       "1      評選總表未載明受評廠商標價、本委員會全部委員姓名、職業等，未符「採購評選委員會審議規則」第6...   \n",
       "2      工作小組初審意見應依「採購評選委員會審議規則」第3條規定載明工作小組姓名、職稱及專長、受評廠...   \n",
       "3      「臺北市政府採購稽核小組稽核監督事項紀錄表」(三)採最有利標之核准情形(含未達公告金額)2、...   \n",
       "4      「臺北市政府採購稽核小組稽核監督事項紀錄表」(三)採最有利標之核准情形(含未達公告金額)2、...   \n",
       "...                                                  ...   \n",
       "23222  【第4項】本採購案招標，於109年2月6日辦理更正公告，截止投標日期為109年2月12日，惟...   \n",
       "23223  項次15-查本案之評審須知係貴校自行擬定，核有規定內容過於簡略之情形(例如：廠商出席人數、廠...   \n",
       "23224  【及第3條規定略以：「……未能取得三家以上廠商之書面報價或企劃書者，得經機關首長或其授權人員...   \n",
       "23225  【，及，查本案招標公告「後續擴充」欄載明略以：「......本案之監造技術服務自109年2月...   \n",
       "23226  【及臺北市政府所屬各機關公共工程施工安全衛生須知第3點第2款第1目: 「……監造廠商應於開工...   \n",
       "\n",
       "                                                法令_cloud  \n",
       "0                                                [政府採購法]  \n",
       "1                                          [採購評選委員會審議規則]  \n",
       "2                                          [採購評選委員會審議規則]  \n",
       "3                                                     []  \n",
       "4                                                     []  \n",
       "...                                                  ...  \n",
       "23222                                      [施行細則, 政府採購法]  \n",
       "23223                                               [項次]  \n",
       "23224                        [項次, 中央機關未達公告金額採購招標辦法, 同辦法]  \n",
       "23225                                  [施行細則, 項次, 政府採購法]  \n",
       "23226  [臺北市政府所屬各機關公共工程施工安全衛生須知, 項次, 臺北市政府公共工程施工品質管理作業要點]  \n",
       "\n",
       "[23227 rows x 15 columns]"
      ]
     },
     "execution_count": 4,
     "metadata": {},
     "output_type": "execute_result"
    }
   ],
   "source": [
    "split_rule(raw_df, legal_name_file, split_rule_kw_file)"
   ]
  },
  {
   "cell_type": "code",
   "execution_count": 7,
   "metadata": {
    "colab": {
     "base_uri": "https://localhost:8080/",
     "height": 379
    },
    "id": "-FEsEVTs_qFQ",
    "outputId": "8f0e6097-57d8-4f72-a686-3e8b8ba4b160"
   },
   "outputs": [],
   "source": [
    "#data_utils.download_data_gdown(ckip_path)\n",
    "#ws = WS(ckip_path)\n",
    "\n",
    "#os.environ[\"CUDA_VISIBLE_DEVICES\"] = \"0\"\n",
    "#ws = WS(\"./data\", disable_cuda=False)"
   ]
  },
  {
   "cell_type": "markdown",
   "metadata": {
    "id": "4l55PRU3_t7I"
   },
   "source": [
    "# step3. 將檔案路徑設定到自己的Google Drive"
   ]
  },
  {
   "cell_type": "code",
   "execution_count": 3,
   "metadata": {
    "id": "u5mHJTAW0Qoe"
   },
   "outputs": [
    {
     "name": "stdout",
     "output_type": "stream",
     "text": [
      "/Users/zoe/Desktop/20201107_d4sg_corpus_mapping\n"
     ]
    }
   ],
   "source": [
    "#drive.mount('/content/drive', force_remount=True)"
   ]
  },
  {
   "cell_type": "code",
   "execution_count": 4,
   "metadata": {
    "id": "ZYfL-DE87UAJ"
   },
   "outputs": [],
   "source": []
  },
  {
   "cell_type": "code",
   "execution_count": 5,
   "metadata": {
    "id": "WsKeSvafCkR_"
   },
   "outputs": [],
   "source": [
    "#採用包含法規50, 錯誤態樣50的法規, 事實, 建議拆分的版本\n"
   ]
  },
  {
   "cell_type": "code",
   "execution_count": 9,
   "metadata": {
    "colab": {
     "base_uri": "https://localhost:8080/"
    },
    "id": "S2qkuKjR7Mcs",
    "outputId": "7dbc08f3-3f14-45cf-ebb6-cdb9f7f68fd5"
   },
   "outputs": [],
   "source": []
  },
  {
   "cell_type": "code",
   "execution_count": 10,
   "metadata": {},
   "outputs": [],
   "source": [
    "#word2vec_modle(step3_file, w2v_model_file)"
   ]
  },
  {
   "cell_type": "code",
   "execution_count": 11,
   "metadata": {},
   "outputs": [],
   "source": [
    "def recommend_law(text, model_var_file):\n",
    "    def text_preprocess(text):\n",
    "        rule = re.compile(r'[^a-zA-Z0-9\\u4e00-\\u9fa5]')\n",
    "        text = rule.sub(' ',str(text))\n",
    "        text = re.sub(' +', '',text)\n",
    "        text = ws([text], sentence_segmentation=True)\n",
    "        text = [x for l in text for x in l]\n",
    "        return text\n",
    "    w2v_vocab, w2v_model, tfidf_feature, tfidf_text_vect, dictionary, df = pickle.load(open(model_var_file, 'rb'))\n",
    "    text = text_preprocess(text)\n",
    "    text_vect = np.zeros(100) # w2v size\n",
    "    weight_sum = 0\n",
    "    for word in text:\n",
    "        if word in w2v_vocab and word in tfidf_feature:\n",
    "            vec = w2v_model.wv[word]\n",
    "            tf_idf = dictionary[word]*(text.count(word)/len(text))\n",
    "            text_vect += (vec * tf_idf)\n",
    "            weight_sum += tf_idf\n",
    "    if weight_sum != 0:\n",
    "        text_vect /= weight_sum\n",
    "    #binding all doc vector and add one input vector(seems extend would be better)\n",
    "    tmp_vect = [*tfidf_text_vect, text_vect]\n",
    "    new_cos_sim = cosine_similarity(tmp_vect, tmp_vect)\n",
    "    sim_score = np.sort(new_cos_sim[new_cos_sim.shape[0]-1])[::-1][1:11]\n",
    "    \n",
    "    tmp_top_10_law = df[['法規名稱','條','缺失內容']].iloc[np.argsort(new_cos_sim[new_cos_sim.shape[0]-1])[::-1][1:11]]\n",
    "    tmp_top_10_law['similarity_score'] = [round(score*100,1) for score in sim_score]\n",
    "    return tmp_top_10_law"
   ]
  },
  {
   "cell_type": "code",
   "execution_count": 27,
   "metadata": {},
   "outputs": [
    {
     "name": "stdout",
     "output_type": "stream",
     "text": [
      "搜尋推薦時間:  0:00:01.383325\n"
     ]
    }
   ],
   "source": [
    "starttime = datetime.datetime.now()\n",
    "\n",
    "newtext = '開標時有作拒絕往來廠商調查'\n",
    "result = recommend_law(newtext, w2v_model_file)\n",
    "\n",
    "# calculate running time\n",
    "endtime = datetime.datetime.now()\n",
    "print(\"搜尋推薦時間: \",endtime - starttime)"
   ]
  },
  {
   "cell_type": "code",
   "execution_count": 29,
   "metadata": {},
   "outputs": [
    {
     "data": {
      "text/html": [
       "<div>\n",
       "<style scoped>\n",
       "    .dataframe tbody tr th:only-of-type {\n",
       "        vertical-align: middle;\n",
       "    }\n",
       "\n",
       "    .dataframe tbody tr th {\n",
       "        vertical-align: top;\n",
       "    }\n",
       "\n",
       "    .dataframe thead th {\n",
       "        text-align: right;\n",
       "    }\n",
       "</style>\n",
       "<table border=\"1\" class=\"dataframe\">\n",
       "  <thead>\n",
       "    <tr style=\"text-align: right;\">\n",
       "      <th></th>\n",
       "      <th>法規名稱</th>\n",
       "      <th>條</th>\n",
       "      <th>缺失內容</th>\n",
       "      <th>similarity_score</th>\n",
       "    </tr>\n",
       "  </thead>\n",
       "  <tbody>\n",
       "    <tr>\n",
       "      <th>13476</th>\n",
       "      <td>政府採購法</td>\n",
       "      <td>103</td>\n",
       "      <td>項次16─依政府採購法第103條第1項，經刊登政府採購公報之拒絕往來廠商自刊登次日起1年或3...</td>\n",
       "      <td>96.5</td>\n",
       "    </tr>\n",
       "    <tr>\n",
       "      <th>11178</th>\n",
       "      <td>政府採購法</td>\n",
       "      <td>103</td>\n",
       "      <td>依政府採購法第103條第1項，經刊登政府採購公報之拒絕往來廠商自刊登次日起1年或3年不得3加...</td>\n",
       "      <td>95.2</td>\n",
       "    </tr>\n",
       "    <tr>\n",
       "      <th>13171</th>\n",
       "      <td>政府採購法</td>\n",
       "      <td>103</td>\n",
       "      <td>依政府採購法第103條第1項，經刊登政府採購公報之拒絕往來廠商自刊登次日起1年或3年不得3加...</td>\n",
       "      <td>95.2</td>\n",
       "    </tr>\n",
       "    <tr>\n",
       "      <th>2976</th>\n",
       "      <td>政府採購法</td>\n",
       "      <td>50</td>\n",
       "      <td>本案允許「共同投標」，開標前已查詢拒絕往來廠商名單，惟未於開標後對得標廠商之共同投標成員長泉...</td>\n",
       "      <td>93.1</td>\n",
       "    </tr>\n",
       "    <tr>\n",
       "      <th>12739</th>\n",
       "      <td>政府採購法</td>\n",
       "      <td>50</td>\n",
       "      <td>依政府採購法第103條第1項，經刊登政府採購公報之拒絕往來廠商自刊登次日起1年或3年不得3加...</td>\n",
       "      <td>93.1</td>\n",
       "    </tr>\n",
       "    <tr>\n",
       "      <th>4629</th>\n",
       "      <td>政府採購法</td>\n",
       "      <td>50</td>\n",
       "      <td>政府採購法第50條第1項明定投標廠商有第103條第1項不得3加投標或作為決標對象之情形，經機...</td>\n",
       "      <td>93.0</td>\n",
       "    </tr>\n",
       "    <tr>\n",
       "      <th>10749</th>\n",
       "      <td>政府採購法</td>\n",
       "      <td>50</td>\n",
       "      <td>有關本案「查詢拒絕往來廠商名單」1節，查有缺失如下，請檢討改進： A.依政府採購法第50條第...</td>\n",
       "      <td>92.4</td>\n",
       "    </tr>\n",
       "    <tr>\n",
       "      <th>9393</th>\n",
       "      <td>政府採購法</td>\n",
       "      <td>50</td>\n",
       "      <td>本案受稽核文件附有貴局查詢各投標廠商是否為拒絕往來廠商名單，其中「台灣野村總研諮詢顧問股份有...</td>\n",
       "      <td>92.2</td>\n",
       "    </tr>\n",
       "    <tr>\n",
       "      <th>10222</th>\n",
       "      <td>政府採購法</td>\n",
       "      <td>50</td>\n",
       "      <td>本案開標日為103年2月21日，惟稽核文件查詢拒絕往來廠商名單時間為103年3月18日，顯未...</td>\n",
       "      <td>92.1</td>\n",
       "    </tr>\n",
       "    <tr>\n",
       "      <th>6752</th>\n",
       "      <td>政府採購法</td>\n",
       "      <td>50</td>\n",
       "      <td>政府採購法第50條第1項第6款明定，投標廠商有第103條第1項不得3加投標或作為決標對象之情...</td>\n",
       "      <td>91.9</td>\n",
       "    </tr>\n",
       "  </tbody>\n",
       "</table>\n",
       "</div>"
      ],
      "text/plain": [
       "        法規名稱    條                                               缺失內容  \\\n",
       "13476  政府採購法  103  項次16─依政府採購法第103條第1項，經刊登政府採購公報之拒絕往來廠商自刊登次日起1年或3...   \n",
       "11178  政府採購法  103  依政府採購法第103條第1項，經刊登政府採購公報之拒絕往來廠商自刊登次日起1年或3年不得3加...   \n",
       "13171  政府採購法  103  依政府採購法第103條第1項，經刊登政府採購公報之拒絕往來廠商自刊登次日起1年或3年不得3加...   \n",
       "2976   政府採購法   50  本案允許「共同投標」，開標前已查詢拒絕往來廠商名單，惟未於開標後對得標廠商之共同投標成員長泉...   \n",
       "12739  政府採購法   50  依政府採購法第103條第1項，經刊登政府採購公報之拒絕往來廠商自刊登次日起1年或3年不得3加...   \n",
       "4629   政府採購法   50  政府採購法第50條第1項明定投標廠商有第103條第1項不得3加投標或作為決標對象之情形，經機...   \n",
       "10749  政府採購法   50  有關本案「查詢拒絕往來廠商名單」1節，查有缺失如下，請檢討改進： A.依政府採購法第50條第...   \n",
       "9393   政府採購法   50  本案受稽核文件附有貴局查詢各投標廠商是否為拒絕往來廠商名單，其中「台灣野村總研諮詢顧問股份有...   \n",
       "10222  政府採購法   50  本案開標日為103年2月21日，惟稽核文件查詢拒絕往來廠商名單時間為103年3月18日，顯未...   \n",
       "6752   政府採購法   50  政府採購法第50條第1項第6款明定，投標廠商有第103條第1項不得3加投標或作為決標對象之情...   \n",
       "\n",
       "       similarity_score  \n",
       "13476              96.5  \n",
       "11178              95.2  \n",
       "13171              95.2  \n",
       "2976               93.1  \n",
       "12739              93.1  \n",
       "4629               93.0  \n",
       "10749              92.4  \n",
       "9393               92.2  \n",
       "10222              92.1  \n",
       "6752               91.9  "
      ]
     },
     "execution_count": 29,
     "metadata": {},
     "output_type": "execute_result"
    }
   ],
   "source": [
    "result"
   ]
  },
  {
   "cell_type": "code",
   "execution_count": null,
   "metadata": {
    "id": "t3vIEOaqs9bb"
   },
   "outputs": [],
   "source": [
    "#bad formate inner open\n",
    "#seems can't be last line of pickle dump"
   ]
  },
  {
   "cell_type": "code",
   "execution_count": null,
   "metadata": {
    "id": "l1nQt0E0s9e0"
   },
   "outputs": [],
   "source": []
  },
  {
   "cell_type": "code",
   "execution_count": null,
   "metadata": {
    "id": "VyvW7EqAs9g-"
   },
   "outputs": [],
   "source": []
  },
  {
   "cell_type": "code",
   "execution_count": 4,
   "metadata": {
    "colab": {
     "base_uri": "https://localhost:8080/"
    },
    "id": "xK6GYavTIwLU",
    "outputId": "f75b66e1-4d30-4593-f825-44749994b68c"
   },
   "outputs": [
    {
     "name": "stdout",
     "output_type": "stream",
     "text": [
      "/Users/zoe/Desktop/20201107_d4sg_corpus_mapping/output/data_etl_step1.csv  exported.\n",
      "/Users/zoe/Desktop/20201107_d4sg_corpus_mapping/dictionary/punctuation.pkl  exported.\n",
      "/Users/zoe/Desktop/20201107_d4sg_corpus_mapping/output/data_etl_step3_noPuncDict.csv  exported.\n"
     ]
    }
   ],
   "source": [
    "# data_cleansing(raw_df, output_file=step1_file, text_column=parsed_column)\n",
    "# get_punctuation(step1_file, output_file=punc_file, text_column=parsed_column)\n",
    "# word_cut(step1_file, step3_file, punc_file, parsed_column, legal_name_file, word_file, ckip_path)\n",
    "#word2vec_modle(step3_file, w2v_model_file)"
   ]
  },
  {
   "cell_type": "code",
   "execution_count": null,
   "metadata": {},
   "outputs": [],
   "source": []
  }
 ],
 "metadata": {
  "accelerator": "GPU",
  "colab": {
   "collapsed_sections": [],
   "name": "TaipeiPWD_intg.ipynb",
   "provenance": []
  },
  "kernelspec": {
   "display_name": "Python 3",
   "language": "python",
   "name": "python3"
  },
  "language_info": {
   "codemirror_mode": {
    "name": "ipython",
    "version": 3
   },
   "file_extension": ".py",
   "mimetype": "text/x-python",
   "name": "python",
   "nbconvert_exporter": "python",
   "pygments_lexer": "ipython3",
   "version": "3.7.3"
  }
 },
 "nbformat": 4,
 "nbformat_minor": 2
}

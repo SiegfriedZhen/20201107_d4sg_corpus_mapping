{
 "cells": [
  {
   "cell_type": "markdown",
   "metadata": {
    "id": "2y8oHAZ2-bAY"
   },
   "source": [
    "# step1. 安裝CKIP"
   ]
  },
  {
   "cell_type": "code",
   "execution_count": 1,
   "metadata": {
    "id": "m8kCHMPE-I9r"
   },
   "outputs": [],
   "source": [
    "#!pip install -U ckiptagger[tfgpu,gdown]"
   ]
  },
  {
   "cell_type": "code",
   "execution_count": 1,
   "metadata": {
    "id": "T_OUiM-u_egW"
   },
   "outputs": [],
   "source": [
    "# import os\n",
    "# from pathlib import Path\n",
    "# from collections import Counter\n",
    "# import re\n",
    "# import pickle\n",
    "# from string import punctuation\n",
    "# import datetime\n",
    "\n",
    "# from gensim.models.word2vec import Word2Vec\n",
    "# import numpy as np\n",
    "# import pandas as pd\n",
    "# from ckiptagger import data_utils, construct_dictionary, WS\n",
    "# from sklearn.metrics.pairwise import cosine_similarity\n",
    "# from sklearn.feature_extraction.text import TfidfTransformer, TfidfVectorizer, CountVectorizer\n",
    "# #from google.colab import drive"
   ]
  },
  {
   "cell_type": "code",
   "execution_count": 1,
   "metadata": {},
   "outputs": [],
   "source": [
    "from pathlib import Path\n",
    "\n",
    "import pandas as pd\n",
    "\n",
    "from model_building import data_cleansing, get_punctuation, word_cut, word2vec_modle"
   ]
  },
  {
   "cell_type": "markdown",
   "metadata": {
    "id": "yvlL0qQ7Cywv"
   },
   "source": [
    "# step2. 設定 GPU 加速斷詞速度。執行階段 > 變更執行階段類型"
   ]
  },
  {
   "cell_type": "code",
   "execution_count": 2,
   "metadata": {
    "colab": {
     "base_uri": "https://localhost:8080/",
     "height": 379
    },
    "id": "-FEsEVTs_qFQ",
    "outputId": "8f0e6097-57d8-4f72-a686-3e8b8ba4b160"
   },
   "outputs": [],
   "source": [
    "ckip_path = '/Users/zoe/Desktop/20201107_d4sg_corpus_mapping/data/ckip_model/data'\n",
    "root_path = Path('/Users/zoe/Desktop/20201107_d4sg_corpus_mapping')\n",
    "raw_df = pd.read_excel(root_path / 'data/200801至202008缺失類型(法規分段例).xlsx', sheet_name='法規')\n",
    "parsed_column = '缺失內容'\n",
    "\n",
    "#data_utils.download_data_gdown(ckip_path)\n",
    "#ws = WS(ckip_path)\n",
    "\n",
    "\n",
    "\n",
    "#os.environ[\"CUDA_VISIBLE_DEVICES\"] = \"0\"\n",
    "#ws = WS(\"./data\", disable_cuda=False)"
   ]
  },
  {
   "cell_type": "markdown",
   "metadata": {
    "id": "4l55PRU3_t7I"
   },
   "source": [
    "# step3. 將檔案路徑設定到自己的Google Drive"
   ]
  },
  {
   "cell_type": "code",
   "execution_count": 3,
   "metadata": {
    "id": "u5mHJTAW0Qoe"
   },
   "outputs": [
    {
     "name": "stdout",
     "output_type": "stream",
     "text": [
      "/Users/zoe/Desktop/20201107_d4sg_corpus_mapping\n"
     ]
    }
   ],
   "source": [
    "#drive.mount('/content/drive', force_remount=True)\n",
    "!pwd"
   ]
  },
  {
   "cell_type": "code",
   "execution_count": 4,
   "metadata": {
    "id": "ZYfL-DE87UAJ"
   },
   "outputs": [],
   "source": []
  },
  {
   "cell_type": "code",
   "execution_count": 5,
   "metadata": {
    "id": "WsKeSvafCkR_"
   },
   "outputs": [],
   "source": [
    "#採用包含法規50, 錯誤態樣50的法規, 事實, 建議拆分的版本\n"
   ]
  },
  {
   "cell_type": "code",
   "execution_count": 9,
   "metadata": {
    "colab": {
     "base_uri": "https://localhost:8080/"
    },
    "id": "S2qkuKjR7Mcs",
    "outputId": "7dbc08f3-3f14-45cf-ebb6-cdb9f7f68fd5"
   },
   "outputs": [],
   "source": []
  },
  {
   "cell_type": "code",
   "execution_count": 10,
   "metadata": {},
   "outputs": [],
   "source": [
    "#word2vec_modle(step3_file, w2v_model_file)"
   ]
  },
  {
   "cell_type": "code",
   "execution_count": 11,
   "metadata": {},
   "outputs": [],
   "source": [
    "def recommend_law(text, model_var_file):\n",
    "    def text_preprocess(text):\n",
    "        rule = re.compile(r'[^a-zA-Z0-9\\u4e00-\\u9fa5]')\n",
    "        text = rule.sub(' ',str(text))\n",
    "        text = re.sub(' +', '',text)\n",
    "        text = ws([text], sentence_segmentation=True)\n",
    "        text = [x for l in text for x in l]\n",
    "        return text\n",
    "    w2v_vocab, w2v_model, tfidf_feature, tfidf_text_vect, dictionary, df = pickle.load(open(model_var_file, 'rb'))\n",
    "    text = text_preprocess(text)\n",
    "    text_vect = np.zeros(100) # w2v size\n",
    "    weight_sum = 0\n",
    "    for word in text:\n",
    "        if word in w2v_vocab and word in tfidf_feature:\n",
    "            vec = w2v_model.wv[word]\n",
    "            tf_idf = dictionary[word]*(text.count(word)/len(text))\n",
    "            text_vect += (vec * tf_idf)\n",
    "            weight_sum += tf_idf\n",
    "    if weight_sum != 0:\n",
    "        text_vect /= weight_sum\n",
    "    #binding all doc vector and add one input vector(seems extend would be better)\n",
    "    tmp_vect = [*tfidf_text_vect, text_vect]\n",
    "    new_cos_sim = cosine_similarity(tmp_vect, tmp_vect)\n",
    "    sim_score = np.sort(new_cos_sim[new_cos_sim.shape[0]-1])[::-1][1:11]\n",
    "    \n",
    "    tmp_top_10_law = df[['法規名稱','條','缺失內容']].iloc[np.argsort(new_cos_sim[new_cos_sim.shape[0]-1])[::-1][1:11]]\n",
    "    tmp_top_10_law['similarity_score'] = [round(score*100,1) for score in sim_score]\n",
    "    return tmp_top_10_law"
   ]
  },
  {
   "cell_type": "code",
   "execution_count": 27,
   "metadata": {},
   "outputs": [
    {
     "name": "stdout",
     "output_type": "stream",
     "text": [
      "搜尋推薦時間:  0:00:01.383325\n"
     ]
    }
   ],
   "source": [
    "starttime = datetime.datetime.now()\n",
    "\n",
    "newtext = '開標時有作拒絕往來廠商調查'\n",
    "result = recommend_law(newtext, w2v_model_file)\n",
    "\n",
    "# calculate running time\n",
    "endtime = datetime.datetime.now()\n",
    "print(\"搜尋推薦時間: \",endtime - starttime)"
   ]
  },
  {
   "cell_type": "code",
   "execution_count": 29,
   "metadata": {},
   "outputs": [
    {
     "data": {
      "text/html": [
       "<div>\n",
       "<style scoped>\n",
       "    .dataframe tbody tr th:only-of-type {\n",
       "        vertical-align: middle;\n",
       "    }\n",
       "\n",
       "    .dataframe tbody tr th {\n",
       "        vertical-align: top;\n",
       "    }\n",
       "\n",
       "    .dataframe thead th {\n",
       "        text-align: right;\n",
       "    }\n",
       "</style>\n",
       "<table border=\"1\" class=\"dataframe\">\n",
       "  <thead>\n",
       "    <tr style=\"text-align: right;\">\n",
       "      <th></th>\n",
       "      <th>法規名稱</th>\n",
       "      <th>條</th>\n",
       "      <th>缺失內容</th>\n",
       "      <th>similarity_score</th>\n",
       "    </tr>\n",
       "  </thead>\n",
       "  <tbody>\n",
       "    <tr>\n",
       "      <th>13476</th>\n",
       "      <td>政府採購法</td>\n",
       "      <td>103</td>\n",
       "      <td>項次16─依政府採購法第103條第1項，經刊登政府採購公報之拒絕往來廠商自刊登次日起1年或3...</td>\n",
       "      <td>96.5</td>\n",
       "    </tr>\n",
       "    <tr>\n",
       "      <th>11178</th>\n",
       "      <td>政府採購法</td>\n",
       "      <td>103</td>\n",
       "      <td>依政府採購法第103條第1項，經刊登政府採購公報之拒絕往來廠商自刊登次日起1年或3年不得3加...</td>\n",
       "      <td>95.2</td>\n",
       "    </tr>\n",
       "    <tr>\n",
       "      <th>13171</th>\n",
       "      <td>政府採購法</td>\n",
       "      <td>103</td>\n",
       "      <td>依政府採購法第103條第1項，經刊登政府採購公報之拒絕往來廠商自刊登次日起1年或3年不得3加...</td>\n",
       "      <td>95.2</td>\n",
       "    </tr>\n",
       "    <tr>\n",
       "      <th>2976</th>\n",
       "      <td>政府採購法</td>\n",
       "      <td>50</td>\n",
       "      <td>本案允許「共同投標」，開標前已查詢拒絕往來廠商名單，惟未於開標後對得標廠商之共同投標成員長泉...</td>\n",
       "      <td>93.1</td>\n",
       "    </tr>\n",
       "    <tr>\n",
       "      <th>12739</th>\n",
       "      <td>政府採購法</td>\n",
       "      <td>50</td>\n",
       "      <td>依政府採購法第103條第1項，經刊登政府採購公報之拒絕往來廠商自刊登次日起1年或3年不得3加...</td>\n",
       "      <td>93.1</td>\n",
       "    </tr>\n",
       "    <tr>\n",
       "      <th>4629</th>\n",
       "      <td>政府採購法</td>\n",
       "      <td>50</td>\n",
       "      <td>政府採購法第50條第1項明定投標廠商有第103條第1項不得3加投標或作為決標對象之情形，經機...</td>\n",
       "      <td>93.0</td>\n",
       "    </tr>\n",
       "    <tr>\n",
       "      <th>10749</th>\n",
       "      <td>政府採購法</td>\n",
       "      <td>50</td>\n",
       "      <td>有關本案「查詢拒絕往來廠商名單」1節，查有缺失如下，請檢討改進： A.依政府採購法第50條第...</td>\n",
       "      <td>92.4</td>\n",
       "    </tr>\n",
       "    <tr>\n",
       "      <th>9393</th>\n",
       "      <td>政府採購法</td>\n",
       "      <td>50</td>\n",
       "      <td>本案受稽核文件附有貴局查詢各投標廠商是否為拒絕往來廠商名單，其中「台灣野村總研諮詢顧問股份有...</td>\n",
       "      <td>92.2</td>\n",
       "    </tr>\n",
       "    <tr>\n",
       "      <th>10222</th>\n",
       "      <td>政府採購法</td>\n",
       "      <td>50</td>\n",
       "      <td>本案開標日為103年2月21日，惟稽核文件查詢拒絕往來廠商名單時間為103年3月18日，顯未...</td>\n",
       "      <td>92.1</td>\n",
       "    </tr>\n",
       "    <tr>\n",
       "      <th>6752</th>\n",
       "      <td>政府採購法</td>\n",
       "      <td>50</td>\n",
       "      <td>政府採購法第50條第1項第6款明定，投標廠商有第103條第1項不得3加投標或作為決標對象之情...</td>\n",
       "      <td>91.9</td>\n",
       "    </tr>\n",
       "  </tbody>\n",
       "</table>\n",
       "</div>"
      ],
      "text/plain": [
       "        法規名稱    條                                               缺失內容  \\\n",
       "13476  政府採購法  103  項次16─依政府採購法第103條第1項，經刊登政府採購公報之拒絕往來廠商自刊登次日起1年或3...   \n",
       "11178  政府採購法  103  依政府採購法第103條第1項，經刊登政府採購公報之拒絕往來廠商自刊登次日起1年或3年不得3加...   \n",
       "13171  政府採購法  103  依政府採購法第103條第1項，經刊登政府採購公報之拒絕往來廠商自刊登次日起1年或3年不得3加...   \n",
       "2976   政府採購法   50  本案允許「共同投標」，開標前已查詢拒絕往來廠商名單，惟未於開標後對得標廠商之共同投標成員長泉...   \n",
       "12739  政府採購法   50  依政府採購法第103條第1項，經刊登政府採購公報之拒絕往來廠商自刊登次日起1年或3年不得3加...   \n",
       "4629   政府採購法   50  政府採購法第50條第1項明定投標廠商有第103條第1項不得3加投標或作為決標對象之情形，經機...   \n",
       "10749  政府採購法   50  有關本案「查詢拒絕往來廠商名單」1節，查有缺失如下，請檢討改進： A.依政府採購法第50條第...   \n",
       "9393   政府採購法   50  本案受稽核文件附有貴局查詢各投標廠商是否為拒絕往來廠商名單，其中「台灣野村總研諮詢顧問股份有...   \n",
       "10222  政府採購法   50  本案開標日為103年2月21日，惟稽核文件查詢拒絕往來廠商名單時間為103年3月18日，顯未...   \n",
       "6752   政府採購法   50  政府採購法第50條第1項第6款明定，投標廠商有第103條第1項不得3加投標或作為決標對象之情...   \n",
       "\n",
       "       similarity_score  \n",
       "13476              96.5  \n",
       "11178              95.2  \n",
       "13171              95.2  \n",
       "2976               93.1  \n",
       "12739              93.1  \n",
       "4629               93.0  \n",
       "10749              92.4  \n",
       "9393               92.2  \n",
       "10222              92.1  \n",
       "6752               91.9  "
      ]
     },
     "execution_count": 29,
     "metadata": {},
     "output_type": "execute_result"
    }
   ],
   "source": [
    "result"
   ]
  },
  {
   "cell_type": "code",
   "execution_count": null,
   "metadata": {
    "id": "t3vIEOaqs9bb"
   },
   "outputs": [],
   "source": [
    "#bad formate inner open\n",
    "#seems can't be last line of pickle dump"
   ]
  },
  {
   "cell_type": "code",
   "execution_count": null,
   "metadata": {
    "id": "l1nQt0E0s9e0"
   },
   "outputs": [],
   "source": []
  },
  {
   "cell_type": "code",
   "execution_count": null,
   "metadata": {
    "id": "VyvW7EqAs9g-"
   },
   "outputs": [],
   "source": []
  },
  {
   "cell_type": "code",
   "execution_count": 3,
   "metadata": {
    "id": "o5sZOuNstZqs"
   },
   "outputs": [],
   "source": [
    "#step1 + data cleansing and transfer\n",
    "dict_path = root_path / 'dictionary'\n",
    "legal_name_file = dict_path / 'name_of_legal.txt'\n",
    "word_file = dict_path / 'words.txt'\n",
    "punc_file = dict_path / 'punctuation.pkl'\n",
    "\n",
    "output_path = root_path / 'output'\n",
    "step1_file = output_path / 'data_etl_step1.csv'\n",
    "step2_file = output_path / 'data_etl_step2_noPunc.csv'\n",
    "step3_file = output_path / 'data_etl_step3_noPuncDict.csv'\n",
    "w2v_model_file = output_path / 'w2v_var.pkl'"
   ]
  },
  {
   "cell_type": "code",
   "execution_count": 4,
   "metadata": {
    "colab": {
     "base_uri": "https://localhost:8080/"
    },
    "id": "xK6GYavTIwLU",
    "outputId": "f75b66e1-4d30-4593-f825-44749994b68c"
   },
   "outputs": [
    {
     "name": "stdout",
     "output_type": "stream",
     "text": [
      "/Users/zoe/Desktop/20201107_d4sg_corpus_mapping/output/data_etl_step1.csv  exported.\n",
      "/Users/zoe/Desktop/20201107_d4sg_corpus_mapping/dictionary/punctuation.pkl  exported.\n",
      "/Users/zoe/Desktop/20201107_d4sg_corpus_mapping/output/data_etl_step3_noPuncDict.csv  exported.\n"
     ]
    }
   ],
   "source": [
    "data_cleansing(raw_df, output_file=step1_file, text_column=parsed_column)\n",
    "get_punctuation(step1_file, output_file=punc_file, text_column=parsed_column)\n",
    "word_cut(step1_file, step3_file, punc_file, parsed_column, legal_name_file, word_file, ckip_path)\n",
    "#word2vec_modle(step3_file, w2v_model_file)"
   ]
  },
  {
   "cell_type": "code",
   "execution_count": 5,
   "metadata": {},
   "outputs": [
    {
     "data": {
      "text/plain": [
       "'缺失內容'"
      ]
     },
     "execution_count": 5,
     "metadata": {},
     "output_type": "execute_result"
    }
   ],
   "source": [
    "parsed_column"
   ]
  },
  {
   "cell_type": "code",
   "execution_count": 11,
   "metadata": {},
   "outputs": [],
   "source": [
    "import sys"
   ]
  },
  {
   "cell_type": "code",
   "execution_count": 13,
   "metadata": {},
   "outputs": [
    {
     "data": {
      "text/plain": [
       "'/Users/zoe/anaconda3/bin/python'"
      ]
     },
     "execution_count": 13,
     "metadata": {},
     "output_type": "execute_result"
    }
   ],
   "source": [
    "sys.executable"
   ]
  },
  {
   "cell_type": "code",
   "execution_count": null,
   "metadata": {},
   "outputs": [],
   "source": []
  }
 ],
 "metadata": {
  "accelerator": "GPU",
  "colab": {
   "collapsed_sections": [],
   "name": "TaipeiPWD_intg.ipynb",
   "provenance": []
  },
  "kernelspec": {
   "display_name": "Python 3",
   "language": "python",
   "name": "python3"
  },
  "language_info": {
   "codemirror_mode": {
    "name": "ipython",
    "version": 3
   },
   "file_extension": ".py",
   "mimetype": "text/x-python",
   "name": "python",
   "nbconvert_exporter": "python",
   "pygments_lexer": "ipython3",
   "version": "3.7.3"
  }
 },
 "nbformat": 4,
 "nbformat_minor": 2
}
